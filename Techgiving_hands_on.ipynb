{
  "nbformat": 4,
  "nbformat_minor": 0,
  "metadata": {
    "colab": {
      "provenance": [],
      "authorship_tag": "ABX9TyO1ud5G7dB3+kM7Nls0/H0E",
      "include_colab_link": true
    },
    "kernelspec": {
      "name": "python3",
      "display_name": "Python 3"
    },
    "language_info": {
      "name": "python"
    }
  },
  "cells": [
    {
      "cell_type": "markdown",
      "metadata": {
        "id": "view-in-github",
        "colab_type": "text"
      },
      "source": [
        "<a href=\"https://colab.research.google.com/github/Kheene145/lavender-tofu/blob/main/Techgiving_hands_on.ipynb\" target=\"_parent\"><img src=\"https://colab.research.google.com/assets/colab-badge.svg\" alt=\"Open In Colab\"/></a>"
      ]
    },
    {
      "cell_type": "code",
      "execution_count": 4,
      "metadata": {
        "id": "EyJOqTxICE-I"
      },
      "outputs": [],
      "source": []
    },
    {
      "cell_type": "markdown",
      "source": [
        "Lab 1: Monthly Expenses Calculator\n",
        "\n",
        "Instructions:\n",
        "1. Create a program that calculates total monthly expenses.\n",
        "2. Take user input for expenses categries like rent,groceries, etc\n",
        "3. Sum up the expenses and display the total."
      ],
      "metadata": {
        "id": "FW7PhqEGULAX"
      }
    },
    {
      "cell_type": "code",
      "source": [
        "# Lab1: Monthly Expenses calculator test_rent, test_groceries,test_utilities, test_others = 100,300, 150, 50\n",
        "\n",
        "def calculate_expenses():\n",
        "  rent = float(input(\"Enter rent expenses: 1000\"))\n",
        "  groceries = float(input(\"Enter groceries expenses: 300\"))\n",
        "  utilities = float(input(\"Enter utilities expenses: 300\"))\n",
        "  others = float(input(\"Enter other expenses: 900\"))\n",
        "  total = rent + groceries + utilities + others\n",
        "  print(f\"Your total monthly expenses are: ${total:.2f}\")\n",
        "\n",
        "  calculate_expenses()"
      ],
      "metadata": {
        "id": "y0_SSwLMUG2o"
      },
      "execution_count": 6,
      "outputs": []
    },
    {
      "cell_type": "code",
      "source": [],
      "metadata": {
        "id": "9oHSNmOAsErK"
      },
      "execution_count": null,
      "outputs": []
    },
    {
      "cell_type": "code",
      "source": [
        "# Function to check Monthly Expenses Calculator\n",
        "def check_calculator_expenses():\n",
        "  test_rent, test_groceries, test_utilities, test_others = 1000, 300, 150,50\n",
        "  expected_total = test_rent + test_groceries + test_utilities + test_others\n",
        "\n",
        "  # simulate inputs\n",
        "  print(\"Testing Monthly Expenses Calculator...\")\n",
        "  user_total = calculate_expenses(test_rent, test_groceries, test_utilities, test_others)\n",
        "\n",
        "  if user_total == expected_total:\n",
        "    print(\"test passed!\")\n",
        "  else:\n",
        "    print(f\"Test failed.\")"
      ],
      "metadata": {
        "id": "VMqeITKUf_Ws"
      },
      "execution_count": 12,
      "outputs": []
    },
    {
      "cell_type": "code",
      "source": [
        "# Function to check To-Do List Program\n",
        "def check_todo_List program():\n",
        "  print(\"testing To-Do List Program...\")\n",
        "  todo_list = [\"task 1\", \"task 2\", \"Task 3\"]\n",
        "\n",
        "  # Simulate user interactions\n",
        "  add_task(todo_list, \"Task 4\")\n",
        "  if len(todo_list) != 4 or todo_list[-1] != \"Task 4\":\n",
        "    print(\"test failed on adding task.\")\n",
        "    return\n",
        "\n",
        "  remove_task(todo_list, 1)\n",
        "  if len(todo_list) != 3 or todo_list[0] != \"Task 2\":\n",
        "    print(\"Test failed on removing task.\")\n",
        "    return\n",
        "  print(\"All tests passed!\")\n",
        ""
      ],
      "metadata": {
        "id": "hQqfnYrgUvWp"
      },
      "execution_count": 5,
      "outputs": []
    },
    {
      "cell_type": "code",
      "source": [],
      "metadata": {
        "id": "LxN0odd-iM44"
      },
      "execution_count": null,
      "outputs": []
    },
    {
      "cell_type": "markdown",
      "source": [
        "Lab2: To-Do List Program\n",
        "\n",
        "Instructions:\n",
        "1. Create a program that allows the user to manage a simple to-do list\n",
        "2. Provide options to add, view, or remove tasks\n",
        "3. Display the updated list after each action.\n"
      ],
      "metadata": {
        "id": "gRXDRfrUXeRV"
      }
    },
    {
      "cell_type": "markdown",
      "source": [],
      "metadata": {
        "id": "5Mnz2XFRUHoF"
      }
    },
    {
      "cell_type": "code",
      "source": [
        "# lab 2: To-Do List Program\n",
        "\n",
        "def todo_list_program():\n",
        "  todo_list =[]\n",
        "  while True:\n",
        "    print(\"\\nOptions:\")\n",
        "    print(\"1. Add Tasks\")\n",
        "    print(\"2. View Tasks\")\n",
        "    print(\"3. Remove Tasks\")\n",
        "    print(\"4. Exit\")\n",
        "    choice =input(\"Choose an opton (1-4): \")\n",
        "\n",
        "    if choice == '1':\n",
        "      task = input(\"Enter a task: \")\n",
        "      todo_list.append(task)\n",
        "      print(\"Task added.\\n, todo_list\")\n",
        "    elif choice == '2':\n",
        "      print(\"Your To-Do List:\")\n",
        "      for idx, task in enumerate(todo_list, start=1):\n",
        "        print(f\"{idx}.{task}\")\n",
        "    elif choice =='3':\n",
        "      print(\"Your To-Do List:\")\n",
        "      for idx, task in enumerate(todo_list, start=1):\n",
        "        print(f\"{idx}. {task}\")\n",
        "      task_num = int(input(\"Enter the task number to remove: \"))\n",
        "      if 0 < task_num <= len(todo_list):\n",
        "        removed_task = todo_list.pop(task_num -1)\n",
        "        print(f\"Removed task: {removed_task}\")\n",
        "      else:\n",
        "        print(\"Invalid task number.\")\n",
        "\n",
        "    elif choice =='4':\n",
        "      print(\"Existing program. Goodbye!\")\n",
        "      break\n",
        "    else:\n",
        "      print(\"Invalid option. Try again.\")\n",
        "\n",
        "todo_list_program()"
      ],
      "metadata": {
        "colab": {
          "base_uri": "https://localhost:8080/"
        },
        "id": "VgB0RxgFYHaT",
        "outputId": "f3da177a-1be1-4253-b448-a27c5affdffb"
      },
      "execution_count": null,
      "outputs": [
        {
          "metadata": {
            "tags": null
          },
          "name": "stdout",
          "output_type": "stream",
          "text": [
            "\n",
            "Options:\n",
            "1. Add Tasks\n",
            "2. View Tasks\n",
            "3. Remove Tasks\n",
            "4. Exit\n",
            "Your To-Do List:\n",
            "Invalid task number.\n",
            "\n",
            "Options:\n",
            "1. Add Tasks\n",
            "2. View Tasks\n",
            "3. Remove Tasks\n",
            "4. Exit\n",
            "Task added.\n",
            ", todo_list\n",
            "\n",
            "Options:\n",
            "1. Add Tasks\n",
            "2. View Tasks\n",
            "3. Remove Tasks\n",
            "4. Exit\n"
          ]
        }
      ]
    },
    {
      "cell_type": "markdown",
      "source": [
        "Homework\n",
        "\n",
        "1. Write a python program that:\n",
        "\n",
        "*   Takes a list of numbers from the user\n",
        "*   Calculate the sum, average, maximum, and minimum of the numbers\n",
        "\n",
        "2. Write a program to simulate a basic calculator:\n",
        "\n",
        "*   Allow the user to perform addition, subtraction, multplication, and division.\n",
        "\n",
        "\n",
        "\n"
      ],
      "metadata": {
        "id": "FyvB5G7Xedi6"
      }
    },
    {
      "cell_type": "code",
      "source": [
        "# Step 1: Take a list of numbers from the user\n",
        "\n",
        "numbers = input(\"Enter a list of numbers: 65 37 41 20 10 87 15 57 12\")\n",
        "numbers = [float(num) for num in numbers.split()]\n",
        "\n",
        "# Step 2: Perform calculations\n",
        "\n",
        "total_sum = sum(numbers)\n",
        "avearge = total_sum / len(numbers)\n",
        "maximum = max(numbers)\n",
        "minimum = min(numbers)\n",
        "\n",
        "print(f\"Sum: {total_sum}\")\n",
        "print(f\"Average: {average}\")\n",
        "print(f\"maximum: {maximum}\")\n",
        "print(f\"Minimum: {minimum}\")"
      ],
      "metadata": {
        "id": "vdEGFuLVkiI2"
      },
      "execution_count": null,
      "outputs": []
    },
    {
      "cell_type": "markdown",
      "source": [],
      "metadata": {
        "id": "UMWP8CN-rHqd"
      }
    },
    {
      "cell_type": "code",
      "source": [
        "# Homework 2\n",
        "def calculator():\n",
        "  print(\"Select an operation to perform:\")\n",
        "  print(\"1. Addition (+)\")\n",
        "  print(\"2. Subtraction (-)\")\n",
        "  print(\"3. Multiplication (*)\")\n",
        "  print(\"4. Division (/)\")\n",
        "\n",
        "  # Get user's choice\n",
        "\n",
        "  choice = input(\"Enter the number corresponding to the operation (1/2/3/4):\")\n",
        "\n",
        "  # check if the choice is valid\n",
        "  if choice in ['1', '2', '3', '4']:\n",
        "\n",
        "    try:\n",
        "      num1 = float(input(\"Enter the first number: \"))\n",
        "      num2 = float(input(\"Enter the second number: \"))\n",
        "\n",
        "      if choice == '1':\n",
        "        print(f\"The result of adition: {num1 + num2}\")\n",
        "      elif choice == '2':\n",
        "        print(f\"The result of subtraction: {num1 - num 2}\")\n",
        "      elif choice =='3':\n",
        "        print(f\"The result of multiplicaion: {num1 * num2}\")\n",
        "      elif choice == '4':\n",
        "        if num!= 0:\n",
        "          print(f\"The result of division: {num1 / num2}\")\n",
        "      else:\n",
        "        print(\"Error: Division by zero is not allowed.\")\n",
        "    except ValueError:\n",
        "      print(\"Invalid choice. Please enter numeric values only.\")\n",
        "  else:\n",
        "    print(\"Invald choice. Please select a valid operation.\")\n",
        "\n",
        "calculator()\n"
      ],
      "metadata": {
        "id": "8oqTAPmHrPsi"
      },
      "execution_count": null,
      "outputs": []
    }
  ]
}