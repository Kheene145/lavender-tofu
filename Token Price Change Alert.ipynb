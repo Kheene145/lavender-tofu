{
 "cells": [
  {
   "cell_type": "code",
   "execution_count": 25,
   "id": "9fe621d2-95fb-4480-a6dd-2702abad90ac",
   "metadata": {},
   "outputs": [
    {
     "name": "stdout",
     "output_type": "stream",
     "text": [
      "95727\n",
      "Current Bitcoin Price: $None\n"
     ]
    }
   ],
   "source": [
    "import requests\n",
    "\n",
    "# Fetch Bitcoin price in USD\n",
    "\n",
    "def fetch_data(token= 'bitcoin'):\n",
    "    url = 'https://api.coingecko.com/api/v3/simple/price?ids=bitcoin&vs_currencies=usd'\n",
    "    response = requests.get(url)\n",
    "    data = response.json()\n",
    "    print(data['bitcoin']['usd'])\n",
    "\n",
    "price = fetch_data('bitcoin')\n",
    "print(f\"Current Bitcoin Price: ${price}\")\n"
   ]
  },
  {
   "cell_type": "code",
   "execution_count": 31,
   "id": "e571e104-8c23-4a8b-bf65-3fe4eaeff92a",
   "metadata": {},
   "outputs": [
    {
     "name": "stdout",
     "output_type": "stream",
     "text": [
      "        id symbol     name                                              image  \\\n",
      "0  bitcoin    btc  Bitcoin  https://coin-images.coingecko.com/coins/images...   \n",
      "\n",
      "   current_price     market_cap  market_cap_rank  fully_diluted_valuation  \\\n",
      "0          95803  1898785491151                1            2014005193809   \n",
      "\n",
      "   total_volume  high_24h  ...  total_supply  max_supply     ath  \\\n",
      "0  100228575820    102759  ...    21000000.0  21000000.0  108135   \n",
      "\n",
      "   ath_change_percentage                  ath_date    atl  \\\n",
      "0              -11.17457  2024-12-17T15:02:41.429Z  67.81   \n",
      "\n",
      "   atl_change_percentage                  atl_date   roi  \\\n",
      "0           141549.50919  2013-07-06T00:00:00.000Z  None   \n",
      "\n",
      "               last_updated  \n",
      "0  2024-12-20T08:47:56.150Z  \n",
      "\n",
      "[1 rows x 26 columns]\n"
     ]
    }
   ],
   "source": [
    "import requests\n",
    "import pandas as pd\n",
    "\n",
    "# Fetch data from CoinGecko API\n",
    "url = 'https://api.coingecko.com/api/v3/coins/markets'\n",
    "params = {\n",
    "    'vs_currency': 'usd',\n",
    "    'ids': 'bitcoin',\n",
    "}\n",
    "response = requests.get(url, params=params)\n",
    "data = response.json()\n",
    "\n",
    "# Convert the API response to a pandas DataFrame\n",
    "df_price = pd.DataFrame(data)\n",
    "\n",
    "# Display the first 5 rows of the DataFrame\n",
    "print(df_price.head())"
   ]
  },
  {
   "cell_type": "code",
   "execution_count": 33,
   "id": "ee1f84e8-3a14-4b38-ba2d-16eeaa271d28",
   "metadata": {},
   "outputs": [
    {
     "name": "stdout",
     "output_type": "stream",
     "text": [
      "95727\n",
      "Recorded Price: $None\n",
      "95727\n",
      "Recorded Price: $None\n",
      "95297\n",
      "Recorded Price: $None\n",
      "95297\n",
      "Recorded Price: $None\n",
      "95297\n",
      "Recorded Price: $None\n",
      "95297\n",
      "Recorded Price: $None\n",
      "95297\n",
      "Recorded Price: $None\n",
      "95307\n",
      "Recorded Price: $None\n",
      "95307\n",
      "Recorded Price: $None\n",
      "95307\n",
      "Recorded Price: $None\n",
      "  Price\n",
      "0  None\n",
      "1  None\n",
      "2  None\n",
      "3  None\n",
      "4  None\n",
      "5  None\n",
      "6  None\n",
      "7  None\n",
      "8  None\n",
      "9  None\n"
     ]
    }
   ],
   "source": [
    "# Create a loop to fetch and store price data over time\n",
    "\n",
    "import time\n",
    "import pandas as pd\n",
    "\n",
    "# List to store price data\n",
    "price_data = []\n",
    "\n",
    "for _ in range(10):\n",
    "    price = fetch_data('bitcoin')\n",
    "    price_data.append(price)\n",
    "    print(f\"Recorded Price: ${price}\")\n",
    "    time.sleep(60) # Fetch price every minute\n",
    "\n",
    "df_price = pd.DataFrame({'Price': price_data})\n",
    "print(df_price)"
   ]
  },
  {
   "cell_type": "code",
   "execution_count": null,
   "id": "03348e79-7a9f-40af-972c-66d2e96410a3",
   "metadata": {},
   "outputs": [],
   "source": [
    "data = response.json()\n",
    "return data[token]['usd']"
   ]
  },
  {
   "cell_type": "code",
   "execution_count": null,
   "id": "68607f44-fba5-4fc9-90b8-45277e15f654",
   "metadata": {},
   "outputs": [],
   "source": [
    "current_price = fetch_data(token = 'bitcoin')\n",
    "print(f\"The current price of Bitcoin is ${current_price:.2f}\") "
   ]
  },
  {
   "cell_type": "markdown",
   "id": "6f3186b0-0977-49d5-935a-c1fb8b93d852",
   "metadata": {},
   "source": [
    "### Calculate percentage change to detect significant changes\n"
   ]
  },
  {
   "cell_type": "code",
   "execution_count": null,
   "id": "15b2fc5b-6730-4c3d-b18a-da68fd553596",
   "metadata": {},
   "outputs": [],
   "source": [
    "# Set Alerts for Price Changes"
   ]
  },
  {
   "cell_type": "code",
   "execution_count": null,
   "id": "77fb28e1-112f-4239-b6cb-c86512253ba8",
   "metadata": {},
   "outputs": [],
   "source": [
    "df_price['Change (%)' ] = df_price['price'].pct_change() * 100\n",
    "print(df_price)"
   ]
  },
  {
   "cell_type": "code",
   "execution_count": null,
   "id": "a4906477-d42c-444a-97b5-62f3e0a16c20",
   "metadata": {},
   "outputs": [],
   "source": [
    "threshold = 2\n",
    "\n",
    "for index, row in df_price.iterrows():\n",
    "    if abs(row['Change (%)' ]) >= threshold:\n",
    "        print(f\"Alert! Price changed by {row['Change (%)']:.2f}% at index {index}\")"
   ]
  },
  {
   "cell_type": "markdown",
   "id": "6f3219bd-e364-4335-8998-b199b6154fee",
   "metadata": {},
   "source": [
    "### Stimulate Historical Data"
   ]
  },
  {
   "cell_type": "code",
   "execution_count": 58,
   "id": "4f2fe259-b311-4d81-b365-5c47cd5af93b",
   "metadata": {},
   "outputs": [
    {
     "ename": "SyntaxError",
     "evalue": "unterminated string literal (detected at line 5) (1085042509.py, line 5)",
     "output_type": "error",
     "traceback": [
      "\u001b[0;36m  Cell \u001b[0;32mIn[58], line 5\u001b[0;36m\u001b[0m\n\u001b[0;31m    'Time: pd.date_range(start = '2024-12-00', periods = 10, freq = 'D'),\u001b[0m\n\u001b[0m                                                                      ^\u001b[0m\n\u001b[0;31mSyntaxError\u001b[0m\u001b[0;31m:\u001b[0m unterminated string literal (detected at line 5)\n"
     ]
    }
   ],
   "source": [
    "# Lets create a dummy data set to simulate historical price data\n",
    "\n",
    "\n",
    "data = {\n",
    "    'Time: pd.date_range(start = '2024-12-00', periods = 10, freq = 'D'),\n",
    "    'Price (USD)' : [current_price * (1 + i / 100) for i in range(-5,5)] \n",
    "\n",
    "}\n",
    "\n",
    "df = pd.DataFrame(data)\n",
    "print(df.head())"
   ]
  },
  {
   "cell_type": "markdown",
   "id": "8cc85cd1-f109-44dd-9b6f-198f69c1e693",
   "metadata": {},
   "source": [
    "### Visualize the price trend"
   ]
  },
  {
   "cell_type": "code",
   "execution_count": 47,
   "id": "6662cfde-0ccc-4acc-b670-afe7ac1faff1",
   "metadata": {},
   "outputs": [],
   "source": [
    "import matplotlib.pyplot as plt"
   ]
  },
  {
   "cell_type": "code",
   "execution_count": 49,
   "id": "f2863ca6-97fa-49e2-a081-69c853a227c2",
   "metadata": {},
   "outputs": [
    {
     "ename": "KeyError",
     "evalue": "'Time'",
     "output_type": "error",
     "traceback": [
      "\u001b[0;31m---------------------------------------------------------------------------\u001b[0m",
      "\u001b[0;31mKeyError\u001b[0m                                  Traceback (most recent call last)",
      "File \u001b[0;32m~/anaconda3/lib/python3.12/site-packages/pandas/core/indexes/base.py:3805\u001b[0m, in \u001b[0;36mIndex.get_loc\u001b[0;34m(self, key)\u001b[0m\n\u001b[1;32m   3804\u001b[0m \u001b[38;5;28;01mtry\u001b[39;00m:\n\u001b[0;32m-> 3805\u001b[0m     \u001b[38;5;28;01mreturn\u001b[39;00m \u001b[38;5;28mself\u001b[39m\u001b[38;5;241m.\u001b[39m_engine\u001b[38;5;241m.\u001b[39mget_loc(casted_key)\n\u001b[1;32m   3806\u001b[0m \u001b[38;5;28;01mexcept\u001b[39;00m \u001b[38;5;167;01mKeyError\u001b[39;00m \u001b[38;5;28;01mas\u001b[39;00m err:\n",
      "File \u001b[0;32mindex.pyx:167\u001b[0m, in \u001b[0;36mpandas._libs.index.IndexEngine.get_loc\u001b[0;34m()\u001b[0m\n",
      "File \u001b[0;32mindex.pyx:196\u001b[0m, in \u001b[0;36mpandas._libs.index.IndexEngine.get_loc\u001b[0;34m()\u001b[0m\n",
      "File \u001b[0;32mpandas/_libs/hashtable_class_helper.pxi:7081\u001b[0m, in \u001b[0;36mpandas._libs.hashtable.PyObjectHashTable.get_item\u001b[0;34m()\u001b[0m\n",
      "File \u001b[0;32mpandas/_libs/hashtable_class_helper.pxi:7089\u001b[0m, in \u001b[0;36mpandas._libs.hashtable.PyObjectHashTable.get_item\u001b[0;34m()\u001b[0m\n",
      "\u001b[0;31mKeyError\u001b[0m: 'Time'",
      "\nThe above exception was the direct cause of the following exception:\n",
      "\u001b[0;31mKeyError\u001b[0m                                  Traceback (most recent call last)",
      "Cell \u001b[0;32mIn[49], line 1\u001b[0m\n\u001b[0;32m----> 1\u001b[0m plt\u001b[38;5;241m.\u001b[39mplot(df_price[\u001b[38;5;124m'\u001b[39m\u001b[38;5;124mTime\u001b[39m\u001b[38;5;124m'\u001b[39m], df_price[\u001b[38;5;124m'\u001b[39m\u001b[38;5;124mPrice (USD)\u001b[39m\u001b[38;5;124m'\u001b[39m], marker \u001b[38;5;241m=\u001b[39m \u001b[38;5;124m'\u001b[39m\u001b[38;5;124mo\u001b[39m\u001b[38;5;124m'\u001b[39m)\n\u001b[1;32m      2\u001b[0m plt\u001b[38;5;241m.\u001b[39mxlabel(\u001b[38;5;124m'\u001b[39m\u001b[38;5;124mDate\u001b[39m\u001b[38;5;124m'\u001b[39m)\n\u001b[1;32m      3\u001b[0m plt\u001b[38;5;241m.\u001b[39mylabel(\u001b[38;5;124m'\u001b[39m\u001b[38;5;124mPrice (USD)\u001b[39m\u001b[38;5;124m'\u001b[39m)\n",
      "File \u001b[0;32m~/anaconda3/lib/python3.12/site-packages/pandas/core/frame.py:4102\u001b[0m, in \u001b[0;36mDataFrame.__getitem__\u001b[0;34m(self, key)\u001b[0m\n\u001b[1;32m   4100\u001b[0m \u001b[38;5;28;01mif\u001b[39;00m \u001b[38;5;28mself\u001b[39m\u001b[38;5;241m.\u001b[39mcolumns\u001b[38;5;241m.\u001b[39mnlevels \u001b[38;5;241m>\u001b[39m \u001b[38;5;241m1\u001b[39m:\n\u001b[1;32m   4101\u001b[0m     \u001b[38;5;28;01mreturn\u001b[39;00m \u001b[38;5;28mself\u001b[39m\u001b[38;5;241m.\u001b[39m_getitem_multilevel(key)\n\u001b[0;32m-> 4102\u001b[0m indexer \u001b[38;5;241m=\u001b[39m \u001b[38;5;28mself\u001b[39m\u001b[38;5;241m.\u001b[39mcolumns\u001b[38;5;241m.\u001b[39mget_loc(key)\n\u001b[1;32m   4103\u001b[0m \u001b[38;5;28;01mif\u001b[39;00m is_integer(indexer):\n\u001b[1;32m   4104\u001b[0m     indexer \u001b[38;5;241m=\u001b[39m [indexer]\n",
      "File \u001b[0;32m~/anaconda3/lib/python3.12/site-packages/pandas/core/indexes/base.py:3812\u001b[0m, in \u001b[0;36mIndex.get_loc\u001b[0;34m(self, key)\u001b[0m\n\u001b[1;32m   3807\u001b[0m     \u001b[38;5;28;01mif\u001b[39;00m \u001b[38;5;28misinstance\u001b[39m(casted_key, \u001b[38;5;28mslice\u001b[39m) \u001b[38;5;129;01mor\u001b[39;00m (\n\u001b[1;32m   3808\u001b[0m         \u001b[38;5;28misinstance\u001b[39m(casted_key, abc\u001b[38;5;241m.\u001b[39mIterable)\n\u001b[1;32m   3809\u001b[0m         \u001b[38;5;129;01mand\u001b[39;00m \u001b[38;5;28many\u001b[39m(\u001b[38;5;28misinstance\u001b[39m(x, \u001b[38;5;28mslice\u001b[39m) \u001b[38;5;28;01mfor\u001b[39;00m x \u001b[38;5;129;01min\u001b[39;00m casted_key)\n\u001b[1;32m   3810\u001b[0m     ):\n\u001b[1;32m   3811\u001b[0m         \u001b[38;5;28;01mraise\u001b[39;00m InvalidIndexError(key)\n\u001b[0;32m-> 3812\u001b[0m     \u001b[38;5;28;01mraise\u001b[39;00m \u001b[38;5;167;01mKeyError\u001b[39;00m(key) \u001b[38;5;28;01mfrom\u001b[39;00m \u001b[38;5;21;01merr\u001b[39;00m\n\u001b[1;32m   3813\u001b[0m \u001b[38;5;28;01mexcept\u001b[39;00m \u001b[38;5;167;01mTypeError\u001b[39;00m:\n\u001b[1;32m   3814\u001b[0m     \u001b[38;5;66;03m# If we have a listlike key, _check_indexing_error will raise\u001b[39;00m\n\u001b[1;32m   3815\u001b[0m     \u001b[38;5;66;03m#  InvalidIndexError. Otherwise we fall through and re-raise\u001b[39;00m\n\u001b[1;32m   3816\u001b[0m     \u001b[38;5;66;03m#  the TypeError.\u001b[39;00m\n\u001b[1;32m   3817\u001b[0m     \u001b[38;5;28mself\u001b[39m\u001b[38;5;241m.\u001b[39m_check_indexing_error(key)\n",
      "\u001b[0;31mKeyError\u001b[0m: 'Time'"
     ]
    }
   ],
   "source": [
    "plt.plot(df_price['Time'], df_price['Price (USD)'], marker = 'o')\n",
    "plt.xlabel('Date')\n",
    "plt.ylabel('Price (USD)')\n",
    "plt.title('Bitcoin Price Trend')\n",
    "plt.show()"
   ]
  },
  {
   "cell_type": "code",
   "execution_count": null,
   "id": "c0dc6001-e2dd-4e2c-9f33-4de3c99c2a84",
   "metadata": {},
   "outputs": [],
   "source": []
  }
 ],
 "metadata": {
  "kernelspec": {
   "display_name": "Python 3 (ipykernel)",
   "language": "python",
   "name": "python3"
  },
  "language_info": {
   "codemirror_mode": {
    "name": "ipython",
    "version": 3
   },
   "file_extension": ".py",
   "mimetype": "text/x-python",
   "name": "python",
   "nbconvert_exporter": "python",
   "pygments_lexer": "ipython3",
   "version": "3.12.4"
  }
 },
 "nbformat": 4,
 "nbformat_minor": 5
}
